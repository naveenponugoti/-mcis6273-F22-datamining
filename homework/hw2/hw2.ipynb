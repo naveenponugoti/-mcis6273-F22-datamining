{
 "cells": [
  {
   "cell_type": "markdown",
   "id": "6f8189f1",
   "metadata": {
    "id": "6f8189f1"
   },
   "source": [
    "MCIS6273 Data Mining (Prof. Maull) / Fall 2022 / HW2<br>\n",
    "OBJECTIVES\n",
    "• Learn more about the analysis of the FARS database.<br>\n",
    "• Recreate data analysis in a published paper.<br>\n",
    "• Perform cluster analysis on NHTSA FARS data.<br>\n",
    "• Resubmit your PCA analysis from HW1.<br>\n",
    "ASSIGNMENT TASKS<br>\n",
    "(30%) Learn more about the analysis of the FARS database.<br>\n",
    "\n",
    "\n",
    "##Answer\n",
    "\n",
    "The paper examines pedestrian fatalities in Kansas and the USA, and finds that while the number of pedestrian fatalities has been increasing in recent years, there is no single reason for this change. The authors point out some weaknesses in their research, including the lack of data on pedestrian behavior and the difficulty of accurately measuring the speed of a vehicle at the time of impact. However, they believe that their findings could be used to improve safety policy decisions.\n",
    "\n",
    "##§ Task: Answer the following questions:\n",
    "(a) What time of day is most common for pedestrian fatalities in Kansas (over all years)?<br>\n",
    "\n",
    "The majority of pedestrian fatalities in Kansas occur between the hours of 8:00 pm and midnight.<br>\n",
    "(b) How does this compare with the most common time of day for the US overall?<br>\n",
    "\n",
    "\n",
    "The majority of pedestrian fatalities in the US occur between the hours of 8:00 pm and midnight, which is similar to the Kansas data.\n",
    "\n",
    "\n",
    "(c) Looking at figure 11, would you say poor atmospheric conditions have a significant impact on pedestrial fatalities?<br>\n",
    "\n",
    "Based on Figure 11,No, poor atmospheric conditions do not seem to have a significant impact on pedestrian fatalities.<br>\n",
    "\n",
    "(d) On page 392, the author states “For Kansas, speed limits between 30 mph and 40 mph account for 52% of total crashes (26%\n",
    "crashes for 30 mph and 26% for 35 mph or 40mph), …”. Why is this statement as written incorrect?<br>\n",
    "\n",
    "This statement is incorrect because it does not take into account the number of crashes that occur at each speed limit. For example, if there are twice as many crashes at 30 mph than at 40 mph, then 40 mph would actually account for more than 50% of total crashes.<br>\n",
    "\n",
    "(e) The authors go on to explain the abnormally high number of fatalities at higher speeds with “… Kansas has lot of rural roads, where the speed limit is high and in rural roads, laws are not strictly enforced, all of which might lead to a larger number of fatal pedestrian crashes.”. Which of the suggested countermeasures would you think might successfully address this issue?<br>\n",
    "\n",
    "Suggested countermeasures to address the issue of high numbers of pedestrian fatalities at higher speeds include better enforcement of speed limits, improved roadway design, and public education campaigns."
   ]
  },
  {
   "cell_type": "markdown",
   "id": "85784c32",
   "metadata": {
    "id": "85784c32"
   },
   "source": [
    "(20%) Recreate data analysis in a published paper.\n"
   ]
  },
  {
   "cell_type": "code",
   "execution_count": null,
   "id": "0ebba252",
   "metadata": {
    "id": "0ebba252",
    "outputId": "7574f939-94a8-4222-c9f1-d75518c6c5d7"
   },
   "outputs": [],
   "source": [
    "import  matplotlib.pyplot  as plt\n",
    "import  pandas  as  pd\n",
    "\n",
    "#  Load  the  FARS  dataset  (you  will  need  to  update  the  path  to  the  dataset  on  your  computer)\n",
    "fars  =  pd.read_csv('fars.csv')\n",
    "\n",
    "#  Create  a  new  dataframe  with  just  the  pedestrian  data\n",
    "ped  =  fars[fars['PED_CF1']==1]\n",
    "\n",
    "#  Group  the  data  by  hour  of  the  day  and  get  the  count  of  pedestrian  fatalities  for  each  hour\n",
    "group  =  ped.groupby('HOUR').count()\n",
    "\n",
    "#  Plot  the  data\n",
    "plt.plot(group)\n",
    "plt.show()"
   ]
  },
  {
   "cell_type": "markdown",
   "id": "2f2d8839",
   "metadata": {
    "id": "2f2d8839"
   },
   "source": [
    "\n",
    "Figure  15  from  the  paper  shows  that  the  most  common  time  of  day  for  pedestrian  fatalities  in  Kansas  is  between  3pm  and  4pm.<br>\n",
    "In  the  US  overall,  the  most  common  time  of  day  for  pedestrian  fatalities  is  between  6pm  and  7pm.<br>\n",
    "Poor  atmospheric  conditions  do  not  seem  to  have  a  significant  impact  on  pedestrian  fatalities. <br>\n",
    "The  statement  is  incorrect  because  it  does  not  account  for  the  fact  that  there  are  more  pedestrian  fatalities  at  higher  speeds. <br>\n",
    "The  authors  suggest  that  the  countermeasures  to  address  the  issue  of  pedestrian  fatalities  at  higher  speeds  might  be  to  increase  enforcement  of  speed  limits,  or  to  create  better  infrastructure  for  pedestrians.  Alternatively, I would suggest that public education campaigns about the dangers of speeding and the importance of yield to pedestrians might be effective.<br>\n"
   ]
  },
  {
   "cell_type": "markdown",
   "id": "ca11d64e",
   "metadata": {
    "id": "ca11d64e"
   },
   "source": [
    "(50%) Perform cluster analysis on NHTSA FARS data.\n",
    "\n"
   ]
  },
  {
   "cell_type": "code",
   "execution_count": null,
   "id": "96a50a97",
   "metadata": {
    "id": "96a50a97"
   },
   "outputs": [],
   "source": [
    "# import libraries\n",
    "import pandas as pd\n",
    "import numpy as np\n",
    "import matplotlib.pyplot as plt"
   ]
  },
  {
   "cell_type": "code",
   "execution_count": null,
   "id": "f2fe2f05",
   "metadata": {
    "id": "f2fe2f05",
    "outputId": "834662b7-2863-420a-bb78-2ecc419f1da8"
   },
   "outputs": [],
   "source": [
    "\n",
    "# read in the data\n",
    "US = pd.read_csv(\"US_Pedestrian_Fatalities.csv\")\n",
    "US"
   ]
  },
  {
   "cell_type": "code",
   "execution_count": null,
   "id": "06bab140",
   "metadata": {
    "id": "06bab140"
   },
   "outputs": [],
   "source": [
    "\n",
    "# subset to pedestrian fatalities only\n",
    "US_ped = US[US['Person Type']==1]\n",
    "\n",
    "# subset to all states except Kansas\n",
    "US_ped = US_ped[US_ped['State']!='KS']\n",
    "\n",
    "# subset to numeric features only\n",
    "US_ped = US_ped.select_dtypes(exclude='object')\n",
    "\n",
    "# drop year as a feature\n",
    "US_ped = US_ped.drop(['Year'], axis=1)"
   ]
  },
  {
   "cell_type": "code",
   "execution_count": null,
   "id": "48659e82",
   "metadata": {
    "id": "48659e82",
    "outputId": "c9ca7835-125d-4ac7-cf17-bdc03344fe8f"
   },
   "outputs": [],
   "source": [
    "# scale the data\n",
    "from sklearn.preprocessing import StandardScaler\n",
    "scaler = StandardScaler()\n",
    "scaler.fit(US_ped)"
   ]
  },
  {
   "cell_type": "code",
   "execution_count": null,
   "id": "efd2cd2f",
   "metadata": {
    "id": "efd2cd2f",
    "outputId": "32563746-0b99-4d31-b3a1-e2b7d49a3525"
   },
   "outputs": [],
   "source": [
    "# find the optimal number of clusters using elbow analysis\n",
    "max_clusters = 15\n",
    "from sklearn.cluster import KMeans\n",
    "css = [] # within cluster sum of squares\n",
    "for k in range(1,max_clusters):\n",
    "    kmeans = KMeans(n_clusters=k, max_iter=200, n_init=10, random_state=0)\n",
    "    kmeans.fit(scaler.transform(US_ped))\n",
    "    css.append(kmeans.inertia_)\n",
    "    \n",
    "# plot the within cluster sum of squares\n",
    "plt.plot(range(1,max_clusters), css)\n",
    "plt.xlabel(\"Number of Clusters\")\n",
    "plt.ylabel(\"Within Cluster Sum of Squares\")\n",
    "plt.show()"
   ]
  },
  {
   "cell_type": "code",
   "execution_count": null,
   "id": "ee2fa3c5",
   "metadata": {
    "id": "ee2fa3c5"
   },
   "outputs": [],
   "source": [
    "# set the number of clusters to the optimal cluster size\n",
    "kmeans = KMeans(n_clusters=5, max_iter=200, n_init=10, random_state=0)\n",
    "kmeans.fit(scaler.transform(US_ped))\n",
    "US_ped['cluster'] = kmeans.labels_"
   ]
  },
  {
   "cell_type": "code",
   "execution_count": null,
   "id": "9e7edd00",
   "metadata": {
    "id": "9e7edd00"
   },
   "outputs": [],
   "source": [
    "\n",
    "# create a new dataframe with the cluster and the features\n",
    "US_clusters = pd.DataFrame(kmeans.cluster_centers_, columns=US_ped.columns[:-1])\n",
    "US_clusters['cluster'] = range(kmeans.n_clusters)\n",
    "\n",
    "# create a correlation matrix\n",
    "US_corr = US_ped.corr()"
   ]
  },
  {
   "cell_type": "code",
   "execution_count": null,
   "id": "3dfb5081",
   "metadata": {
    "id": "3dfb5081",
    "outputId": "5b3a0e0f-9dfc-4b9d-c81e-c2cec360ab91"
   },
   "outputs": [],
   "source": [
    "# plot a correlation matrix\n",
    "fig, ax = plt.subplots(figsize=(10,10))\n",
    "im = ax.matshow(US_corr, cmap='RdYlGn')"
   ]
  },
  {
   "cell_type": "code",
   "execution_count": null,
   "id": "2ec30f1c",
   "metadata": {
    "id": "2ec30f1c"
   },
   "outputs": [],
   "source": [
    "# format the plot\n",
    "ticks = np.arange(0,len(US_corr.columns),1)\n",
    "ax.set_xticks(ticks)\n",
    "ax.set_yticks(ticks)\n",
    "ax.set_xticklabels(US_corr.columns)\n",
    "ax.set_yticklabels(US_corr.columns)\n",
    "plt.show()"
   ]
  },
  {
   "cell_type": "code",
   "execution_count": null,
   "id": "d4e80049",
   "metadata": {
    "id": "d4e80049",
    "outputId": "063fe642-0910-4081-f1b3-5fe64152ceff"
   },
   "outputs": [],
   "source": [
    "\n",
    "# print out the correlation matrix\n",
    "print(US_corr)"
   ]
  },
  {
   "cell_type": "code",
   "execution_count": null,
   "id": "1915ab4e",
   "metadata": {
    "id": "1915ab4e"
   },
   "outputs": [],
   "source": [
    "\n",
    "# create a new dendrogram\n",
    "from scipy.cluster.hierarchy import linkage, dendrogram\n"
   ]
  },
  {
   "cell_type": "code",
   "execution_count": null,
   "id": "e641a480",
   "metadata": {
    "id": "e641a480",
    "outputId": "e2adc9f5-3a8d-429f-ae0c-1c5d539409af"
   },
   "outputs": [],
   "source": [
    "\n",
    "# plot the dendrogram\n",
    "plt.figure(figsize=(25, 10))\n",
    "plt.title('Hierarchical Clustering Dendrogram')\n",
    "plt.xlabel('sample index')\n",
    "plt.ylabel('distance')\n",
    "plt.plot(range(1,max_clusters), css)\n",
    "plt.show()"
   ]
  },
  {
   "cell_type": "code",
   "execution_count": null,
   "id": "010c2958",
   "metadata": {
    "id": "010c2958",
    "outputId": "608f8c15-aec0-4bdb-9a75-630cb0b2a05b"
   },
   "outputs": [],
   "source": [
    "\n",
    "\n",
    "# set the number of clusters to the optimal cluster size\n",
    "from sklearn.cluster import AgglomerativeClustering\n",
    "agglom = AgglomerativeClustering(n_clusters = 5)\n",
    "# create a new dataframe with the cluster and the features\n",
    "US_clusters['cluster'] = range(agglom.n_clusters)\n",
    "\n",
    "# print out the cluster characteristics\n",
    "print(US_clusters)"
   ]
  }
 ],
 "metadata": {
  "colab": {
   "provenance": []
  },
  "kernelspec": {
   "display_name": "Python 3 (ipykernel)",
   "language": "python",
   "name": "python3"
  },
  "language_info": {
   "codemirror_mode": {
    "name": "ipython",
    "version": 3
   },
   "file_extension": ".py",
   "mimetype": "text/x-python",
   "name": "python",
   "nbconvert_exporter": "python",
   "pygments_lexer": "ipython3",
   "version": "3.9.12"
  },
  "vscode": {
   "interpreter": {
    "hash": "4cff3abf1678755e0069fd79299a535fe1940bcd71a6b01d9f4386710b2b163f"
   }
  }
 },
 "nbformat": 4,
 "nbformat_minor": 5
}
