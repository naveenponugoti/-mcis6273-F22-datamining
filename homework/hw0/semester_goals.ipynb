{
 "cells": [
  {
   "cell_type": "markdown",
   "id": "e1708e94",
   "metadata": {},
   "source": [
    "# What do you wish to accomplish this semester in Data Mining?"
   ]
  },
  {
   "cell_type": "markdown",
   "id": "f7f49cc0",
   "metadata": {},
   "source": [
    "+ I have a background in *electronics and communication*, and I want to learn  how to  convert  data into meaningful  information for that data mining is so helpful to me and I want to learn more\n",
    "\n",
    "+ In order to find patterns in data and provide solutions to business concerns, it also entails the use of **software**, **algorithms**, and **statistical methodologies**.\n",
    "\n",
    "+ These strategies are utilized in commercial fields including **Marketing**, **Fraud detection**, and **Cyber security** as a way to boost operational efficiency.\n"
   ]
  },
  {
   "cell_type": "markdown",
   "id": "1fe33307",
   "metadata": {},
   "source": [
    "# 1. List 3 things that you learned from this podcast?"
   ]
  },
  {
   "cell_type": "markdown",
   "id": "f80cbdde",
   "metadata": {},
   "source": [
    "+ How to use tools like jupiter note book \n",
    "\n",
    "+ How computer programing and software is involved in **cognitive science** more broadly.\n",
    "\n",
    "+ what is human *computer interaction* \n"
   ]
  },
  {
   "cell_type": "markdown",
   "id": "3547c86c",
   "metadata": {},
   "source": [
    "# 2. What is your reaction to the podcast? Pick at least one point Adam brought up in the interview that you agree with and list your reason why.\n"
   ]
  },
  {
   "cell_type": "markdown",
   "id": "5bf05f36",
   "metadata": {},
   "source": [
    "+ This is very useful prodcast where we can learn lot of new things and it is very helpful .\n",
    "\n",
    "I agree with  *Adam* thoughts on the **cognitive science** because .An intriguing field that combines computer technology and psychology is called **cognitive science**.\n",
    "You may go back to the beginning by looking at people like *Herb Simon* and other people from *Carnegie Mellon* and other places. Additionally, they were actively involved in the development and testing of a great deal of software.\n",
    "\n"
   ]
  },
  {
   "cell_type": "markdown",
   "id": "c2e44e75",
   "metadata": {},
   "source": [
    "# 3. After listening to the podcast, do you think you are more interested or less interested in learning from Jupyter notebooks on Github? "
   ]
  },
  {
   "cell_type": "markdown",
   "id": "0c395350",
   "metadata": {},
   "source": [
    "+ I am very much intrested in learning from Jupyter notebooks on Git hub \n",
    "\n"
   ]
  },
  {
   "cell_type": "code",
   "execution_count": null,
   "id": "ab9482e2",
   "metadata": {},
   "outputs": [],
   "source": []
  }
 ],
 "metadata": {
  "kernelspec": {
   "display_name": "Python 3 (ipykernel)",
   "language": "python",
   "name": "python3"
  },
  "language_info": {
   "codemirror_mode": {
    "name": "ipython",
    "version": 3
   },
   "file_extension": ".py",
   "mimetype": "text/x-python",
   "name": "python",
   "nbconvert_exporter": "python",
   "pygments_lexer": "ipython3",
   "version": "3.9.12"
  }
 },
 "nbformat": 4,
 "nbformat_minor": 5
}
