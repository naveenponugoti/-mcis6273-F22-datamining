{
 "cells": [
  {
   "cell_type": "markdown",
   "id": "74503621",
   "metadata": {},
   "source": [
    "## 1. List 3 things that you learned from this podcast?"
   ]
  },
  {
   "cell_type": "markdown",
   "id": "e3e716e6",
   "metadata": {},
   "source": [
    "+ How to use tools like jupiter note book \n",
    "\n",
    "+ How computer programing and software is involved in **cognitive science** more broadly.\n",
    "\n",
    "+ what is human *computer interaction* \n"
   ]
  },
  {
   "cell_type": "markdown",
   "id": "add71d27",
   "metadata": {},
   "source": [
    "## 2. What is your reaction to the podcast? Pick at least one point Adam brought up in the interview that you agree with and list your reason why.\n"
   ]
  },
  {
   "cell_type": "markdown",
   "id": "3111a391",
   "metadata": {},
   "source": [
    "+ This is very useful prodcast where we can learn lot of new things and it is very helpful .\n",
    "\n",
    "I agree with  *Adam* thoughts on the **cognitive science** because .An intriguing field that combines computer technology and psychology is called **cognitive science**.\n",
    "You may go back to the beginning by looking at people like *Herb Simon* and other people from *Carnegie Mellon* and other places. Additionally, they were actively involved in the development and testing of a great deal of software.\n",
    "\n"
   ]
  },
  {
   "cell_type": "markdown",
   "id": "a98ae15f",
   "metadata": {},
   "source": [
    "## 3. After listening to the podcast, do you think you are more interested or less interested in learning from Jupyter notebooks on Github? "
   ]
  },
  {
   "cell_type": "markdown",
   "id": "0d50a690",
   "metadata": {},
   "source": [
    "+ I am very much intrested in learning from Jupyter notebooks on Git hub \n",
    "\n"
   ]
  }
 ],
 "metadata": {
  "kernelspec": {
   "display_name": "Python 3 (ipykernel)",
   "language": "python",
   "name": "python3"
  },
  "language_info": {
   "codemirror_mode": {
    "name": "ipython",
    "version": 3
   },
   "file_extension": ".py",
   "mimetype": "text/x-python",
   "name": "python",
   "nbconvert_exporter": "python",
   "pygments_lexer": "ipython3",
   "version": "3.9.12"
  }
 },
 "nbformat": 4,
 "nbformat_minor": 5
}
